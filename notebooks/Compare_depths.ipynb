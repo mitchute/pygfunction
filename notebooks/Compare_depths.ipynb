{
 "cells": [
  {
   "cell_type": "code",
   "execution_count": null,
   "metadata": {},
   "outputs": [],
   "source": [
    "import os\n",
    "import sys\n",
    "\n",
    "import numpy as np\n",
    "\n",
    "from math import exp, log\n",
    "from scipy.interpolate import interp1d\n",
    "\n",
    "sys.path.insert(0, os.path.abspath('../'))"
   ]
  },
  {
   "cell_type": "code",
   "execution_count": null,
   "metadata": {},
   "outputs": [],
   "source": [
    "import pygfunction as gt"
   ]
  },
  {
   "cell_type": "code",
   "execution_count": null,
   "metadata": {},
   "outputs": [],
   "source": [
    "import matplotlib.pyplot as plt\n",
    "%matplotlib inline"
   ]
  },
  {
   "cell_type": "code",
   "execution_count": null,
   "metadata": {},
   "outputs": [],
   "source": [
    "plt.style.use('ggplot')\n",
    "plt.rcParams['figure.figsize'] = [15, 9]\n",
    "plt.rcParams['font.size'] = 14\n",
    "\n",
    "# pd.set_option('display.max_columns', None)\n",
    "# pd.set_option('display.max_rows', None)"
   ]
  },
  {
   "cell_type": "code",
   "execution_count": null,
   "metadata": {},
   "outputs": [],
   "source": [
    "N_1 = 4\n",
    "N_2 = 6\n",
    "B_1 = 5\n",
    "B_2 = 5\n",
    "H = 100\n",
    "r_b = 0.05"
   ]
  },
  {
   "cell_type": "code",
   "execution_count": null,
   "metadata": {},
   "outputs": [],
   "source": [
    "D = 0\n",
    "boreField_1 = gt.boreholes.rectangle_field(N_1=N_1, N_2=N_2, B_1=B_1, B_2=B_2, H=H, D=D, r_b=r_b)\n",
    "\n",
    "D = 2.5\n",
    "boreField_2 = gt.boreholes.rectangle_field(N_1=N_1, N_2=N_2, B_1=B_1, B_2=B_2, H=H, D=D, r_b=r_b)\n",
    "\n",
    "D = 5\n",
    "boreField_3 = gt.boreholes.rectangle_field(N_1=N_1, N_2=N_2, B_1=B_1, B_2=B_2, H=H, D=D, r_b=r_b)"
   ]
  },
  {
   "cell_type": "code",
   "execution_count": null,
   "metadata": {},
   "outputs": [],
   "source": [
    "k_s = 2\n",
    "rho_cp_s = 2000 * 1000\n",
    "alpha = k_s / rho_cp_s\n",
    "dt = 100 * 3600.                # Time step\n",
    "tmax = 10. * 8760. * 3600.      # Maximum time\n",
    "Nt = 40                         # Number of time steps\n",
    "ts = H**2/(9.*alpha)            # Bore field characteristic time\n",
    "ts_years = ts / 3600 / 24 / 365"
   ]
  },
  {
   "cell_type": "code",
   "execution_count": null,
   "metadata": {},
   "outputs": [],
   "source": [
    "lntts = np.arange(-8.5, 3.25, 0.25)"
   ]
  },
  {
   "cell_type": "code",
   "execution_count": null,
   "metadata": {},
   "outputs": [],
   "source": [
    "time = np.exp(lntts) * ts"
   ]
  },
  {
   "cell_type": "code",
   "execution_count": null,
   "metadata": {},
   "outputs": [],
   "source": [
    "g_flux_1 = gt.gfunction.uniform_heat_extraction(boreField_1, time, alpha, disp=False)\n",
    "g_flux_2 = gt.gfunction.uniform_heat_extraction(boreField_2, time, alpha, disp=False)\n",
    "g_flux_3 = gt.gfunction.uniform_heat_extraction(boreField_3, time, alpha, disp=False)"
   ]
  },
  {
   "cell_type": "code",
   "execution_count": null,
   "metadata": {},
   "outputs": [],
   "source": [
    "g_bh_wall_1 = gt.gfunction.uniform_temperature(boreField_1, time, alpha, disp=False)\n",
    "g_bh_wall_2 = gt.gfunction.uniform_temperature(boreField_2, time, alpha, disp=False)\n",
    "g_bh_wall_3 = gt.gfunction.uniform_temperature(boreField_3, time, alpha, disp=False)"
   ]
  },
  {
   "cell_type": "code",
   "execution_count": null,
   "metadata": {},
   "outputs": [],
   "source": [
    "def plot_vals(list_of_tupels, save_name):\n",
    "    \n",
    "    linestyles = ['-', '--', '-', '--', '-', '--']\n",
    "    markers = ['x', 'o', 'v', '^', 'v', '<']\n",
    "    \n",
    "    fig = plt.figure(figsize=(7, 5), dpi=200)\n",
    "    ax = fig.add_subplot(1, 1, 1)\n",
    "    \n",
    "    for idx, tupel in enumerate(list_of_tupels):\n",
    "        x = tupel[0]\n",
    "        y = tupel[1]\n",
    "        label = tupel[2]\n",
    "        linestyle = linestyles[idx]\n",
    "        marker = markers[idx]\n",
    "        plt.plot(x, y, label=label, linestyle=linestyle, marker=marker)\n",
    "\n",
    "    plt.ylabel('g-function')\n",
    "    plt.legend()\n",
    "    plt.xlabel('ln(t/$t_s$)')\n",
    "    plt.savefig(save_name, bbox_inches='tight')\n",
    "    plt.show()"
   ]
  },
  {
   "cell_type": "code",
   "execution_count": null,
   "metadata": {},
   "outputs": [],
   "source": [
    "plot_vals([(lntts, g_flux_1, 'Flux: D=0.0'), \n",
    "           (lntts, g_flux_2, 'Flux: D=2.5'),\n",
    "           (lntts, g_flux_3, 'Flux: D=5.0')],\n",
    "           \"Flux-Depth.png\")"
   ]
  },
  {
   "cell_type": "code",
   "execution_count": null,
   "metadata": {},
   "outputs": [],
   "source": [
    "plot_vals([(lntts, g_bh_wall_1, 'Flux: D=0.0'), \n",
    "           (lntts, g_bh_wall_2, 'Flux: D=2.5'),\n",
    "           (lntts, g_bh_wall_3, 'Flux: D=5.0')],\n",
    "           \"Flux-BH-Wall.png\")"
   ]
  }
 ],
 "metadata": {
  "kernelspec": {
   "display_name": "Python 3",
   "language": "python",
   "name": "python3"
  },
  "language_info": {
   "codemirror_mode": {
    "name": "ipython",
    "version": 3
   },
   "file_extension": ".py",
   "mimetype": "text/x-python",
   "name": "python",
   "nbconvert_exporter": "python",
   "pygments_lexer": "ipython3",
   "version": "3.6.8"
  }
 },
 "nbformat": 4,
 "nbformat_minor": 2
}
