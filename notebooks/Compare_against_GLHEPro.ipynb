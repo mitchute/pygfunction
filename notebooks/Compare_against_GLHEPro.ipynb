{
 "cells": [
  {
   "cell_type": "code",
   "execution_count": null,
   "metadata": {},
   "outputs": [],
   "source": [
    "import os\n",
    "import sys\n",
    "\n",
    "import numpy as np\n",
    "\n",
    "from math import exp, log\n",
    "from scipy.interpolate import interp1d\n",
    "\n",
    "sys.path.insert(0, os.path.abspath('../'))"
   ]
  },
  {
   "cell_type": "code",
   "execution_count": null,
   "metadata": {},
   "outputs": [],
   "source": [
    "import pygfunction as gt"
   ]
  },
  {
   "cell_type": "code",
   "execution_count": null,
   "metadata": {},
   "outputs": [],
   "source": [
    "import matplotlib.pyplot as plt\n",
    "%matplotlib inline"
   ]
  },
  {
   "cell_type": "code",
   "execution_count": null,
   "metadata": {},
   "outputs": [],
   "source": [
    "plt.style.use('ggplot')\n",
    "plt.rcParams['figure.figsize'] = [15, 9]\n",
    "plt.rcParams['font.size'] = 14\n",
    "\n",
    "# pd.set_option('display.max_columns', None)\n",
    "# pd.set_option('display.max_rows', None)"
   ]
  },
  {
   "cell_type": "code",
   "execution_count": null,
   "metadata": {},
   "outputs": [],
   "source": [
    "N_1 = 1\n",
    "N_2 = 2\n",
    "B_1 = 5\n",
    "B_2 = 5\n",
    "H = 100\n",
    "D = 1\n",
    "r_b = 0.05"
   ]
  },
  {
   "cell_type": "code",
   "execution_count": null,
   "metadata": {},
   "outputs": [],
   "source": [
    "boreField = gt.boreholes.rectangle_field(N_1=N_1, N_2=N_2, B_1=B_1, B_2=B_2, H=H, D=D, r_b=r_b)"
   ]
  },
  {
   "cell_type": "code",
   "execution_count": null,
   "metadata": {},
   "outputs": [],
   "source": [
    "boreField"
   ]
  },
  {
   "cell_type": "code",
   "execution_count": null,
   "metadata": {},
   "outputs": [],
   "source": [
    "k_s = 2\n",
    "rho_cp_s = 2000 * 1000\n",
    "alpha = k_s / rho_cp_s\n",
    "dt = 100 * 3600.                # Time step\n",
    "tmax = 10. * 8760. * 3600.      # Maximum time\n",
    "Nt = 40                         # Number of time steps\n",
    "ts = H**2/(9.*alpha)            # Bore field characteristic time\n",
    "ts_years = ts / 3600 / 24 / 365"
   ]
  },
  {
   "cell_type": "code",
   "execution_count": null,
   "metadata": {},
   "outputs": [],
   "source": [
    "lntts = np.arange(-8.5, 3.25, 0.5)"
   ]
  },
  {
   "cell_type": "code",
   "execution_count": null,
   "metadata": {},
   "outputs": [],
   "source": [
    "lntts"
   ]
  },
  {
   "cell_type": "code",
   "execution_count": null,
   "metadata": {},
   "outputs": [],
   "source": [
    "time = np.exp(lntts) * ts"
   ]
  },
  {
   "cell_type": "code",
   "execution_count": null,
   "metadata": {},
   "outputs": [],
   "source": [
    "ts_years"
   ]
  },
  {
   "cell_type": "code",
   "execution_count": null,
   "metadata": {},
   "outputs": [],
   "source": [
    "cimm_g_flux = gt.gfunction.uniform_heat_extraction(boreField, time, alpha, disp=True)"
   ]
  },
  {
   "cell_type": "code",
   "execution_count": null,
   "metadata": {},
   "outputs": [],
   "source": [
    "cimm_g_flux"
   ]
  },
  {
   "cell_type": "code",
   "execution_count": null,
   "metadata": {},
   "outputs": [],
   "source": [
    "cimm_g_bh_wall = gt.gfunction.uniform_temperature(boreField, time, alpha, disp=True)"
   ]
  },
  {
   "cell_type": "code",
   "execution_count": null,
   "metadata": {},
   "outputs": [],
   "source": [
    "def get_glhepro_data(path):\n",
    "    \n",
    "    lntts = []\n",
    "    g = []\n",
    "    \n",
    "    with open(path, 'r') as f:\n",
    "        header = 39\n",
    "        for line in f:\n",
    "            if header > 0:\n",
    "                header -= 1\n",
    "            else:\n",
    "                tokens = line.strip().split(' ')\n",
    "                lntts.append(float(tokens[0]))\n",
    "                g.append(float(tokens[-1]))\n",
    "    return lntts, g"
   ]
  },
  {
   "cell_type": "code",
   "execution_count": null,
   "metadata": {},
   "outputs": [],
   "source": [
    "path_glhe_flux = 'C:\\\\Users\\\\mmatts\\\\Desktop\\\\4x6_flux.dat'\n",
    "glhe_lntts_flux, glhe_g_flux = get_glhepro_data(path_glhe_flux)\n",
    "\n",
    "path_glhe_bh_wall = 'C:\\\\Users\\\\mmatts\\\\Desktop\\\\4x6_temp.dat'\n",
    "glhe_lntts_bh_wall, glhe_g_bh_wall = get_glhepro_data(path_glhe_bh_wall)"
   ]
  },
  {
   "cell_type": "code",
   "execution_count": null,
   "metadata": {},
   "outputs": [],
   "source": [
    "def plot_vals(list_of_tupels, save_name):\n",
    "    \n",
    "    linestyles = ['-', '--', '-', '--', '-', '--']\n",
    "    markers = ['x', 'o', 'v', '^', 'v', '<']\n",
    "    \n",
    "    fig = plt.figure(figsize=(7, 5), dpi=200)\n",
    "    ax = fig.add_subplot(2, 1, 1)\n",
    "    \n",
    "    for idx, tupel in enumerate(list_of_tupels):\n",
    "        x = tupel[0]\n",
    "        y = tupel[1]\n",
    "        label = tupel[2]\n",
    "        linestyle = linestyles[idx]\n",
    "        marker = markers[idx]\n",
    "        plt.plot(x, y, label=label, linestyle=linestyle, marker=marker)\n",
    "\n",
    "    plt.ylabel('g-function')\n",
    "    plt.legend()\n",
    "    \n",
    "    ax = fig.add_subplot(2, 1, 2)\n",
    "    y_1 = np.array(list_of_tupels[0][1])\n",
    "    \n",
    "    for idx, tupel in enumerate(list_of_tupels):\n",
    "        if idx == 0:\n",
    "            pass\n",
    "        else:\n",
    "            x = tupel[0]\n",
    "            y = y_1 - tupel[1]\n",
    "            label = tupel[2]\n",
    "            linestyle = linestyles[idx]\n",
    "            marker = markers[idx]\n",
    "            plt.plot(x, y, linestyle=linestyle, marker=marker)\n",
    "    \n",
    "    plt.ylabel('g-error\\n[GLHEPro - pygfunc]')\n",
    "    plt.xlabel('ln(t/$t_s$)')\n",
    "    plt.savefig(save_name, bbox_inches='tight')\n",
    "    plt.show()"
   ]
  },
  {
   "cell_type": "code",
   "execution_count": null,
   "metadata": {},
   "outputs": [],
   "source": [
    "def normalize_glhepro_data(input_tuple, norm_lntts):\n",
    "    f_interp = interp1d(input_tuple[0], input_tuple[1])\n",
    "    label = input_tuple[2]\n",
    "    g_out = []\n",
    "    for lntts in norm_lntts:\n",
    "        g_out.append(f_interp(lntts))\n",
    "        \n",
    "    return norm_lntts, g_out, label"
   ]
  },
  {
   "cell_type": "code",
   "execution_count": null,
   "metadata": {},
   "outputs": [],
   "source": [
    "plot_vals([normalize_glhepro_data((glhe_lntts_flux, glhe_g_flux, 'GLHEPro: Uniform Flux'), lntts), \n",
    "           (lntts, cimm_g_flux, 'pygfunction: Uniform Flux')],\n",
    "          \"Flux.png\")"
   ]
  },
  {
   "cell_type": "code",
   "execution_count": null,
   "metadata": {},
   "outputs": [],
   "source": [
    "plot_vals([normalize_glhepro_data((glhe_lntts_bh_wall, glhe_g_bh_wall, 'GLHEPro: Uniform Wall Temp'), lntts), \n",
    "           (lntts, cimm_g_bh_wall, 'pygfunction: Uniform Wall Temp')],\n",
    "           'BH_wall.png')"
   ]
  }
 ],
 "metadata": {
  "kernelspec": {
   "display_name": "Python 3",
   "language": "python",
   "name": "python3"
  },
  "language_info": {
   "codemirror_mode": {
    "name": "ipython",
    "version": 3
   },
   "file_extension": ".py",
   "mimetype": "text/x-python",
   "name": "python",
   "nbconvert_exporter": "python",
   "pygments_lexer": "ipython3",
   "version": "3.6.8"
  }
 },
 "nbformat": 4,
 "nbformat_minor": 2
}
